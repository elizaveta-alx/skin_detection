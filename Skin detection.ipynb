{
 "cells": [
  {
   "cell_type": "code",
   "execution_count": 7,
   "id": "16f26004",
   "metadata": {},
   "outputs": [
    {
     "name": "stdout",
     "output_type": "stream",
     "text": [
      "Requirement already satisfied: opencv-python in c:\\users\\elisaveta\\anaconda3\\lib\\site-packages (4.6.0.66)\n",
      "Requirement already satisfied: numpy>=1.17.3 in c:\\users\\elisaveta\\anaconda3\\lib\\site-packages (from opencv-python) (1.20.1)\n",
      "Note: you may need to restart the kernel to use updated packages.\n"
     ]
    }
   ],
   "source": [
    "pip install opencv-python"
   ]
  },
  {
   "cell_type": "code",
   "execution_count": 1,
   "id": "9a720666",
   "metadata": {},
   "outputs": [],
   "source": [
    "# Required modules\n",
    "import numpy as np\n",
    "import matplotlib.pyplot as plt\n",
    "import cv2"
   ]
  },
  {
   "cell_type": "markdown",
   "id": "2947f17b",
   "metadata": {},
   "source": [
    "# Skin detection using HSV color space"
   ]
  },
  {
   "cell_type": "code",
   "execution_count": 12,
   "id": "71b013a1",
   "metadata": {},
   "outputs": [],
   "source": [
    "import cv2\n",
    "\n",
    "cv2.namedWindow(\"HSV detection\")\n",
    "vc = cv2.VideoCapture(0) #Acquire the video stream from the webcam¶\n",
    "\n",
    "if vc.isOpened(): # try to get the first frame\n",
    "    rval, frame = vc.read()\n",
    "else:\n",
    "    rval = False\n",
    "    \n",
    "\n",
    "while rval:\n",
    "    rval, frame = vc.read()\n",
    "    frame_HSV = cv2.cvtColor(frame, cv2.COLOR_BGR2HSV)\n",
    "    # Defining HSV Threadholds\n",
    "    min_HSV = np.array([0, 37, 0], dtype=np.uint8)\n",
    "    max_HSV = np.array([20, 154, 255], dtype=np.uint8)\n",
    "    \n",
    "    # Single Channel mask,denoting presence of colours in the about threshold\n",
    "    skinRegionHSV = cv2.inRange(frame_HSV, min_HSV, max_HSV)\n",
    "    \n",
    "    cv2.imshow(\"HSV detection\", skinRegionHSV)\n",
    "    \n",
    "    key = cv2.waitKey(20)\n",
    "    if key == 27: # exit on ESC\n",
    "        break\n",
    "\n",
    "vc.release()\n",
    "cv2.destroyWindow(\"HSV detection\")"
   ]
  },
  {
   "cell_type": "markdown",
   "id": "b1c334a9",
   "metadata": {},
   "source": [
    "# Skin detection using YCrCb color space"
   ]
  },
  {
   "cell_type": "code",
   "execution_count": 11,
   "id": "e8c697ff",
   "metadata": {},
   "outputs": [],
   "source": [
    "import cv2\n",
    "\n",
    "cv2.namedWindow(\"YCrCb detection\")\n",
    "vc = cv2.VideoCapture(0)\n",
    "\n",
    "if vc.isOpened(): # try to get the first frame\n",
    "    rval, frame = vc.read()\n",
    "else:\n",
    "    rval = False\n",
    "    \n",
    "while rval:\n",
    "    rval, frame = vc.read()\n",
    "    imageYCrCb = cv2.cvtColor(frame, cv2.COLOR_BGR2YCR_CB)\n",
    "    # Defining HSV Threadholds\n",
    "    min_YCrCb = np.array([0,133,77],np.uint8)\n",
    "    max_YCrCb = np.array([235,173,127],np.uint8)\n",
    "    \n",
    "    # Single Channel mask,denoting presence of colours in the about threshold\n",
    "    skinRegionYCrCb = cv2.inRange(imageYCrCb, min_YCrCb, max_YCrCb)\n",
    "    \n",
    "    #skinYCrCb = cv2.bitwise_and(frame, frame, mask = skinRegionYCrCb)\n",
    "    \n",
    "    cv2.imshow(\"YCrCb detection\", skinRegionYCrCb)\n",
    "        \n",
    "    key = cv2.waitKey(20)\n",
    "    if key == 27: # exit on ESC\n",
    "        break\n",
    "\n",
    "vc.release()\n",
    "cv2.destroyWindow(\"YCrCb detection\")"
   ]
  }
 ],
 "metadata": {
  "kernelspec": {
   "display_name": "Python 3",
   "language": "python",
   "name": "python3"
  },
  "language_info": {
   "codemirror_mode": {
    "name": "ipython",
    "version": 3
   },
   "file_extension": ".py",
   "mimetype": "text/x-python",
   "name": "python",
   "nbconvert_exporter": "python",
   "pygments_lexer": "ipython3",
   "version": "3.8.8"
  }
 },
 "nbformat": 4,
 "nbformat_minor": 5
}
